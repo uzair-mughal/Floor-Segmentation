{
 "cells": [
  {
   "cell_type": "code",
   "execution_count": 1,
   "metadata": {},
   "outputs": [
    {
     "name": "stdout",
     "output_type": "stream",
     "text": [
      "Segmentation Models: using `keras` framework.\n"
     ]
    }
   ],
   "source": [
    "import os\n",
    "import sys\n",
    "import numpy as np\n",
    "from PIL import Image\n",
    "import tensorflow as tf\n",
    "import matplotlib.pyplot as plt\n",
    "from keras.models import model_from_json\n",
    "from efficientnet.tfkeras import EfficientNetB4\n",
    "from segmentation_models.metrics import IOUScore, FScore\n",
    "from segmentation_models.losses import DiceLoss, BinaryFocalLoss\n",
    "\n",
    "os.environ[\"CUDA_VISIBLE_DEVICES\"] = \"-1\""
   ]
  },
  {
   "cell_type": "code",
   "execution_count": 2,
   "metadata": {},
   "outputs": [],
   "source": [
    "def get_model():\n",
    "    # loading custom losses\n",
    "    dice_loss = DiceLoss()\n",
    "    focal_loss = BinaryFocalLoss()\n",
    "    total_loss = dice_loss + (1 * focal_loss)\n",
    "\n",
    "    # loading model architecture from json file\n",
    "    json_file = open('./model_files/model.json', 'r')\n",
    "    loaded_model_json = json_file.read()\n",
    "    json_file.close()\n",
    "    loaded_model = model_from_json(loaded_model_json, custom_objects={\n",
    "                                              'dice_loss_plus_1binary_focal_loss': total_loss, 'iou_score': IOUScore(threshold=0.5), 'f1-score': FScore(threshold=0.5)})\n",
    "    # load weights into model\n",
    "    loaded_model.load_weights(\"./model_files/model.h5\")\n",
    "\n",
    "    return loaded_model"
   ]
  },
  {
   "cell_type": "code",
   "execution_count": 3,
   "metadata": {},
   "outputs": [],
   "source": [
    "def floor_segmentation(model, image_path):\n",
    "    # defining iamge size\n",
    "    target_size = (640, 640, 3)\n",
    "\n",
    "    # loading RGB image\n",
    "    image = Image.open(image_path).convert('RGB')\n",
    "    image = ImageOps.exif_transpose(image)\n",
    "    wid, hei = image.size\n",
    "    image = image.resize((target_size[0], target_size[1]), Image.ANTIALIAS)\n",
    "    image_arr = np.array(image)\n",
    "    image_arr = image_arr/255\n",
    "\n",
    "    # floor segmentation\n",
    "    pr_mask = model.predict(np.array([image_arr]))[0]\n",
    "    pr_mask = np.stack((pr_mask[:, :, 0],)*3, axis=-1)\n",
    "\n",
    "    # saving mask of image\n",
    "    plt.imsave(os.path.join(os.getcwd(), 'masks', os.path.split(\n",
    "        image_path)[1].split('.')[0]+'.png'), pr_mask)\n",
    "    mask = Image.open(os.path.join(os.getcwd(), 'masks', os.path.split(\n",
    "        image_path)[1].split('.')[0]+'.png')).convert(\"RGBA\")\n",
    "    pixdata_mask = mask.load()\n",
    "\n",
    "    # coverting almost gray pixels to white\n",
    "    width, height = mask.size\n",
    "    for y in range(height):\n",
    "        for x in range(width):\n",
    "            if pixdata_mask[x, y] >= (80, 80, 80, 255):\n",
    "                pixdata_mask[x, y] = (255, 255, 255, 255)\n",
    "\n",
    "    image = image.convert(\"RGBA\")\n",
    "    pixdata_image = image.load()\n",
    "\n",
    "    # making white pixels transparent\n",
    "    for y in range(height):\n",
    "        for x in range(width):\n",
    "            if pixdata_mask[x, y] == (255, 255, 255, 255):\n",
    "                pixdata_image[x, y] = (255, 255, 255, 0)\n",
    "\n",
    "    # saving segmentated transparent image\n",
    "    image = image.resize((wid, hei), Image.ANTIALIAS)\n",
    "    image.save(os.path.join(os.getcwd(), 'results', os.path.split(\n",
    "        image_path)[1].split('.')[0]+'.png'), \"PNG\")\n"
   ]
  },
  {
   "cell_type": "code",
   "execution_count": 4,
   "metadata": {},
   "outputs": [],
   "source": [
    "model = get_model()"
   ]
  },
  {
   "cell_type": "code",
   "execution_count": 5,
   "metadata": {},
   "outputs": [
    {
     "name": "stderr",
     "output_type": "stream",
     "text": [
      "C:\\Users\\uzair\\AppData\\Local\\Temp\\ipykernel_17416\\1486812286.py:8: DeprecationWarning: ANTIALIAS is deprecated and will be removed in Pillow 10 (2023-07-01). Use Resampling.LANCZOS instead.\n",
      "  image = image.resize((target_size[0], target_size[1]), Image.ANTIALIAS)\n"
     ]
    },
    {
     "name": "stdout",
     "output_type": "stream",
     "text": [
      "1/1 [==============================] - 2s 2s/step\n"
     ]
    },
    {
     "name": "stderr",
     "output_type": "stream",
     "text": [
      "C:\\Users\\uzair\\AppData\\Local\\Temp\\ipykernel_17416\\1486812286.py:40: DeprecationWarning: ANTIALIAS is deprecated and will be removed in Pillow 10 (2023-07-01). Use Resampling.LANCZOS instead.\n",
      "  image = image.resize((wid, hei), Image.ANTIALIAS)\n"
     ]
    }
   ],
   "source": [
    "floor_segmentation(model, './images./7.jpg')"
   ]
  },
  {
   "cell_type": "code",
   "execution_count": null,
   "metadata": {},
   "outputs": [],
   "source": [
    "\n"
   ]
  }
 ],
 "metadata": {
  "kernelspec": {
   "display_name": "Python 3.10.4 ('floor')",
   "language": "python",
   "name": "python3"
  },
  "language_info": {
   "codemirror_mode": {
    "name": "ipython",
    "version": 3
   },
   "file_extension": ".py",
   "mimetype": "text/x-python",
   "name": "python",
   "nbconvert_exporter": "python",
   "pygments_lexer": "ipython3",
   "version": "3.10.4"
  },
  "orig_nbformat": 4,
  "vscode": {
   "interpreter": {
    "hash": "e8edb3f166f82375514e8d034d4dfe209d8e0b8056dd17275b565f0a6394b148"
   }
  }
 },
 "nbformat": 4,
 "nbformat_minor": 2
}
