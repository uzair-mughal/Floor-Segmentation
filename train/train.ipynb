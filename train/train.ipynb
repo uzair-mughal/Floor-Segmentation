{
 "cells": [
  {
   "cell_type": "code",
   "execution_count": 1,
   "metadata": {
    "colab": {
     "base_uri": "https://localhost:8080/"
    },
    "id": "UE_c-bm4DUZk",
    "outputId": "189d9a6b-4037-4f0d-f941-da4ff05f720b"
   },
   "outputs": [],
   "source": [
    "import keras\n",
    "import pandas as pd\n",
    "import tensorflow as tf\n",
    "from PIL import Image, ImageOps\n",
    "import matplotlib.pyplot as plt\n",
    "from data_generator import DataGenerator\n",
    "\n",
    "import segmentation_models as sm\n",
    "from segmentation_models.metrics import IOUScore, FScore\n",
    "from segmentation_models.losses import DiceLoss, BinaryFocalLoss\n",
    "\n",
    "\n",
    "from keras.models import model_from_json\n",
    "\n",
    "sm.set_framework('tf.keras')\n",
    "sm.framework()\n",
    "\n",
    "# setting dynamic memory growth for GPU VRAM\n",
    "gpus = tf.config.list_physical_devices('GPU')\n",
    "if gpus:\n",
    "    try:\n",
    "        for gpu in gpus:\n",
    "          tf.config.experimental.set_memory_growth(gpu, True)\n",
    "        logical_gpus = tf.config.list_logical_devices('GPU')\n",
    "        print(len(gpus), \"Physical GPUs,\", len(logical_gpus), \"Logical GPUs\")\n",
    "    except RuntimeError as e:\n",
    "        print(e)"
   ]
  },
  {
   "cell_type": "code",
   "execution_count": 3,
   "metadata": {
    "id": "ymMRwVMhPJDH"
   },
   "outputs": [],
   "source": [
    "# Defining Hyper-parameters\n",
    "\n",
    "BACKBONE = 'efficientnetb4'\n",
    "CLASSES = ['floor']\n",
    "LR = 0.0001\n",
    "EPOCHS = 10\n",
    "batch_size = 2\n",
    "input_shape=(288, 288, 3) # divisible by 32\n",
    "\n",
    "preprocess_input = sm.get_preprocessing(BACKBONE)"
   ]
  },
  {
   "cell_type": "code",
   "execution_count": 4,
   "metadata": {
    "id": "GeWDf6ObPKfn"
   },
   "outputs": [],
   "source": [
    "# Defining network parameters\n",
    "n_classes = 1\n",
    "activation = 'sigmoid' "
   ]
  },
  {
   "cell_type": "code",
   "execution_count": 5,
   "metadata": {
    "id": "i1DXVoHJPGvj"
   },
   "outputs": [],
   "source": [
    "# Create model\n",
    "model = sm.Unet(BACKBONE, classes=n_classes, activation=activation, input_shape=input_shape)\n",
    "\n",
    "# Define optomizer\n",
    "optim = tf.keras.optimizers.Adam(LR)\n",
    "\n",
    "# Combining segmentation model losses\n",
    "dice_loss = sm.losses.DiceLoss()\n",
    "focal_loss = sm.losses.BinaryFocalLoss()\n",
    "total_loss = dice_loss + (1 * focal_loss)\n",
    "\n",
    "metrics = [sm.metrics.IOUScore(threshold=0.5), sm.metrics.FScore(threshold=0.5)]\n",
    "\n",
    "# Compile keras model with defined optimozer, loss and metrics\n",
    "model.compile(optim, total_loss, metrics)"
   ]
  },
  {
   "cell_type": "code",
   "execution_count": 6,
   "metadata": {
    "id": "9cYnkgoKPDYj"
   },
   "outputs": [],
   "source": [
    "# Creating data generators for train and valid\n",
    "\n",
    "train_df = pd.read_csv( 'training.csv')\n",
    "train_gen = DataGenerator(train_df,\n",
    "                          X_col='rgb',\n",
    "                          y_col='mask',\n",
    "                          batch_size=batch_size, \n",
    "                          input_size=input_shape,\n",
    "                          shuffle=True)\n",
    "\n",
    "valid_df  = pd.read_csv('validation.csv')\n",
    "valid_gen  = DataGenerator(valid_df,\n",
    "                          X_col='rgb',\n",
    "                          y_col='mask',\n",
    "                          batch_size=batch_size,\n",
    "                          input_size=input_shape,\n",
    "                          shuffle=False)\n"
   ]
  },
  {
   "cell_type": "code",
   "execution_count": 7,
   "metadata": {
    "colab": {
     "base_uri": "https://localhost:8080/",
     "height": 538
    },
    "id": "K8prrprthar5",
    "outputId": "d3297ae0-6f8c-4a77-ceaf-2ca4b3ef0777"
   },
   "outputs": [],
   "source": [
    "# # Loading sample from data generator\n",
    "\n",
    "# X, y = valid_gen.get_sample(8)\n",
    "\n",
    "# # Image\n",
    "# plt.imshow(X)\n",
    "# plt.show()\n",
    "# # Ground truth\n",
    "# plt.imshow(y)\n",
    "# plt.show()"
   ]
  },
  {
   "cell_type": "code",
   "execution_count": 8,
   "metadata": {
    "id": "JnavX1drPCb3"
   },
   "outputs": [],
   "source": [
    "callbacks = [\n",
    "    keras.callbacks.EarlyStopping(monitor=\"val_loss\", restore_best_weights=True, mode='min', patience=15, verbose=1),\n",
    "    keras.callbacks.ModelCheckpoint('checkpoints/{val_loss:.4f}.h5', monitor=\"val_loss\", mode=\"min\", save_best_only=True, save_weights_only=False,  verbose=1),\n",
    "    keras.callbacks.ReduceLROnPlateau(monitor='val_loss', factor=0.1, patience=5, verbose=0, mode='min', min_delta=0.0001, cooldown=0, min_lr=0)\n",
    "]"
   ]
  },
  {
   "cell_type": "code",
   "execution_count": 9,
   "metadata": {
    "colab": {
     "base_uri": "https://localhost:8080/"
    },
    "id": "xVkKaB9BPBgl",
    "outputId": "61b6702c-2ee3-4308-a9f2-3f58f09c536f"
   },
   "outputs": [
    {
     "name": "stdout",
     "output_type": "stream",
     "text": [
      "Epoch 1/10\n",
      "4989/4989 [==============================] - ETA: 0s - loss: 0.3591 - iou_score: 0.6394 - f1-score: 0.7544\n",
      "Epoch 1: val_loss improved from inf to 0.25240, saving model to checkpoints\\0.2524.h5\n",
      "4989/4989 [==============================] - 1095s 215ms/step - loss: 0.3591 - iou_score: 0.6394 - f1-score: 0.7544 - val_loss: 0.2524 - val_iou_score: 0.7170 - val_f1-score: 0.8149 - lr: 1.0000e-04\n",
      "Epoch 2/10\n",
      "4989/4989 [==============================] - ETA: 0s - loss: 0.2547 - iou_score: 0.7116 - f1-score: 0.8138\n",
      "Epoch 2: val_loss improved from 0.25240 to 0.23483, saving model to checkpoints\\0.2348.h5\n",
      "4989/4989 [==============================] - 1016s 204ms/step - loss: 0.2547 - iou_score: 0.7116 - f1-score: 0.8138 - val_loss: 0.2348 - val_iou_score: 0.7331 - val_f1-score: 0.8287 - lr: 1.0000e-04\n",
      "Epoch 3/10\n",
      "4989/4989 [==============================] - ETA: 0s - loss: 0.2294 - iou_score: 0.7353 - f1-score: 0.8316\n",
      "Epoch 3: val_loss improved from 0.23483 to 0.22851, saving model to checkpoints\\0.2285.h5\n",
      "4989/4989 [==============================] - 901s 181ms/step - loss: 0.2294 - iou_score: 0.7353 - f1-score: 0.8316 - val_loss: 0.2285 - val_iou_score: 0.7416 - val_f1-score: 0.8332 - lr: 1.0000e-04\n",
      "Epoch 4/10\n",
      "4989/4989 [==============================] - ETA: 0s - loss: 0.2123 - iou_score: 0.7498 - f1-score: 0.8431\n",
      "Epoch 4: val_loss improved from 0.22851 to 0.22088, saving model to checkpoints\\0.2209.h5\n",
      "4989/4989 [==============================] - 901s 181ms/step - loss: 0.2123 - iou_score: 0.7498 - f1-score: 0.8431 - val_loss: 0.2209 - val_iou_score: 0.7542 - val_f1-score: 0.8433 - lr: 1.0000e-04\n",
      "Epoch 5/10\n",
      "4989/4989 [==============================] - ETA: 0s - loss: 0.1998 - iou_score: 0.7621 - f1-score: 0.8519\n",
      "Epoch 5: val_loss did not improve from 0.22088\n",
      "4989/4989 [==============================] - 861s 173ms/step - loss: 0.1998 - iou_score: 0.7621 - f1-score: 0.8519 - val_loss: 0.2341 - val_iou_score: 0.7306 - val_f1-score: 0.8252 - lr: 1.0000e-04\n",
      "Epoch 6/10\n",
      "4989/4989 [==============================] - ETA: 0s - loss: 0.1885 - iou_score: 0.7726 - f1-score: 0.8602\n",
      "Epoch 6: val_loss improved from 0.22088 to 0.21954, saving model to checkpoints\\0.2195.h5\n",
      "4989/4989 [==============================] - 882s 177ms/step - loss: 0.1885 - iou_score: 0.7726 - f1-score: 0.8602 - val_loss: 0.2195 - val_iou_score: 0.7523 - val_f1-score: 0.8429 - lr: 1.0000e-04\n",
      "Epoch 7/10\n",
      "4989/4989 [==============================] - ETA: 0s - loss: 0.1800 - iou_score: 0.7816 - f1-score: 0.8667\n",
      "Epoch 7: val_loss did not improve from 0.21954\n",
      "4989/4989 [==============================] - 842s 169ms/step - loss: 0.1800 - iou_score: 0.7816 - f1-score: 0.8667 - val_loss: 0.2220 - val_iou_score: 0.7442 - val_f1-score: 0.8366 - lr: 1.0000e-04\n",
      "Epoch 8/10\n",
      "4989/4989 [==============================] - ETA: 0s - loss: 0.1745 - iou_score: 0.7861 - f1-score: 0.8700\n",
      "Epoch 8: val_loss improved from 0.21954 to 0.21946, saving model to checkpoints\\0.2195.h5\n",
      "4989/4989 [==============================] - 841s 169ms/step - loss: 0.1745 - iou_score: 0.7861 - f1-score: 0.8700 - val_loss: 0.2195 - val_iou_score: 0.7549 - val_f1-score: 0.8448 - lr: 1.0000e-04\n",
      "Epoch 9/10\n",
      "4989/4989 [==============================] - ETA: 0s - loss: 0.1683 - iou_score: 0.7920 - f1-score: 0.8742\n",
      "Epoch 9: val_loss improved from 0.21946 to 0.21205, saving model to checkpoints\\0.2121.h5\n",
      "4989/4989 [==============================] - 831s 167ms/step - loss: 0.1683 - iou_score: 0.7920 - f1-score: 0.8742 - val_loss: 0.2121 - val_iou_score: 0.7566 - val_f1-score: 0.8449 - lr: 1.0000e-04\n",
      "Epoch 10/10\n",
      "4989/4989 [==============================] - ETA: 0s - loss: 0.1637 - iou_score: 0.7975 - f1-score: 0.8779\n",
      "Epoch 10: val_loss did not improve from 0.21205\n",
      "4989/4989 [==============================] - 1489s 299ms/step - loss: 0.1637 - iou_score: 0.7975 - f1-score: 0.8779 - val_loss: 0.2205 - val_iou_score: 0.7539 - val_f1-score: 0.8429 - lr: 1.0000e-04\n"
     ]
    }
   ],
   "source": [
    "# train the model\n",
    "history = model.fit(\n",
    "    train_gen,  \n",
    "    epochs=EPOCHS,\n",
    "    callbacks=callbacks, \n",
    "    validation_data=valid_gen,\n",
    "    batch_size=batch_size\n",
    ")"
   ]
  },
  {
   "cell_type": "code",
   "execution_count": null,
   "metadata": {},
   "outputs": [],
   "source": [
    "\n",
    "# serialize model to json\n",
    "json_model = model.to_json()\n",
    "#save the model architecture to JSON file\n",
    "with open('model_files/model.json', 'w') as json_file:\n",
    "    json_file.write(json_model)"
   ]
  }
 ],
 "metadata": {
  "accelerator": "GPU",
  "colab": {
   "collapsed_sections": [],
   "name": "floor_segmentaiton_keras.ipynb",
   "provenance": []
  },
  "gpuClass": "standard",
  "kernelspec": {
   "display_name": "Python 3.10.4 ('floor')",
   "language": "python",
   "name": "python3"
  },
  "language_info": {
   "codemirror_mode": {
    "name": "ipython",
    "version": 3
   },
   "file_extension": ".py",
   "mimetype": "text/x-python",
   "name": "python",
   "nbconvert_exporter": "python",
   "pygments_lexer": "ipython3",
   "version": "3.10.4"
  },
  "vscode": {
   "interpreter": {
    "hash": "e8edb3f166f82375514e8d034d4dfe209d8e0b8056dd17275b565f0a6394b148"
   }
  }
 },
 "nbformat": 4,
 "nbformat_minor": 1
}
