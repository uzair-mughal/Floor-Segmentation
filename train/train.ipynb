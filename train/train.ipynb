{
 "cells": [
  {
   "cell_type": "code",
   "execution_count": null,
   "metadata": {
    "colab": {
     "base_uri": "https://localhost:8080/"
    },
    "id": "UE_c-bm4DUZk",
    "outputId": "189d9a6b-4037-4f0d-f941-da4ff05f720b"
   },
   "outputs": [],
   "source": [
    "import keras\n",
    "import pandas as pd\n",
    "from PIL import Image, ImageOps\n",
    "import matplotlib.pyplot as plt"
   ]
  },
  {
   "cell_type": "code",
   "execution_count": null,
   "metadata": {
    "colab": {
     "base_uri": "https://localhost:8080/",
     "height": 53
    },
    "id": "dlXksOyDLtcO",
    "outputId": "f46b6ea3-14b8-4ea7-ad9b-4208c6f7e973"
   },
   "outputs": [],
   "source": [
    "import keras\n",
    "import tensorflow as tf\n",
    "import segmentation_models as sm\n",
    "from data_generator import DataGenerator\n",
    "from segmentation_models.metrics import IOUScore, FScore\n",
    "from segmentation_models.losses import DiceLoss, BinaryFocalLoss\n",
    "\n",
    "\n",
    "sm.set_framework('tf.keras')\n",
    "sm.framework()\n",
    "\n",
    "# setting dynamic memory growth for GPU VRAM\n",
    "gpus = tf.config.list_physical_devices('GPU')\n",
    "if gpus:\n",
    "    try:\n",
    "        for gpu in gpus:\n",
    "          tf.config.experimental.set_memory_growth(gpu, True)\n",
    "        logical_gpus = tf.config.list_logical_devices('GPU')\n",
    "        print(len(gpus), \"Physical GPUs,\", len(logical_gpus), \"Logical GPUs\")\n",
    "    except RuntimeError as e:\n",
    "        print(e)"
   ]
  },
  {
   "cell_type": "code",
   "execution_count": null,
   "metadata": {
    "id": "ymMRwVMhPJDH"
   },
   "outputs": [],
   "source": [
    "# Defining Hyper-parameters\n",
    "\n",
    "BACKBONE = 'efficientnetb3'\n",
    "CLASSES = ['floor']\n",
    "LR = 0.0001\n",
    "EPOCHS = 10\n",
    "batch_size = 2\n",
    "input_shape=(128, 128, 3) # divisible by 32\n",
    "\n",
    "preprocess_input = sm.get_preprocessing(BACKBONE)"
   ]
  },
  {
   "cell_type": "code",
   "execution_count": null,
   "metadata": {
    "id": "GeWDf6ObPKfn"
   },
   "outputs": [],
   "source": [
    "# Defining network parameters\n",
    "n_classes = 1\n",
    "activation = 'sigmoid' "
   ]
  },
  {
   "cell_type": "code",
   "execution_count": null,
   "metadata": {
    "id": "i1DXVoHJPGvj"
   },
   "outputs": [],
   "source": [
    "# Create model\n",
    "model = sm.Unet(BACKBONE, classes=n_classes, activation=activation, input_shape=input_shape)\n",
    "\n",
    "# Define optomizer\n",
    "optim = tf.keras.optimizers.Adam(LR)\n",
    "\n",
    "# Combining segmentation model losses\n",
    "dice_loss = sm.losses.DiceLoss()\n",
    "focal_loss = sm.losses.BinaryFocalLoss()\n",
    "total_loss = dice_loss + (1 * focal_loss)\n",
    "\n",
    "metrics = [sm.metrics.IOUScore(threshold=0.5), sm.metrics.FScore(threshold=0.5)]\n",
    "\n",
    "# Compile keras model with defined optimozer, loss and metrics\n",
    "model.compile(optim, total_loss, metrics)"
   ]
  },
  {
   "cell_type": "code",
   "execution_count": null,
   "metadata": {
    "id": "9cYnkgoKPDYj"
   },
   "outputs": [],
   "source": [
    "# Creating data generators for train and valid\n",
    "\n",
    "train_df = pd.read_csv( 'train.csv')\n",
    "train_gen = DataGenerator(train_df,\n",
    "                          X_col='rgb',\n",
    "                          y_col='mask',\n",
    "                          batch_size=batch_size, \n",
    "                          input_size=input_shape,\n",
    "                          shuffle=True)\n",
    "\n",
    "valid_df  = pd.read_csv('valid.csv')\n",
    "valid_gen  = DataGenerator(valid_df,\n",
    "                          X_col='rgb',\n",
    "                          y_col='mask',\n",
    "                          batch_size=batch_size,\n",
    "                          input_size=input_shape,\n",
    "                          shuffle=False)\n"
   ]
  },
  {
   "cell_type": "code",
   "execution_count": null,
   "metadata": {
    "colab": {
     "base_uri": "https://localhost:8080/",
     "height": 538
    },
    "id": "K8prrprthar5",
    "outputId": "d3297ae0-6f8c-4a77-ceaf-2ca4b3ef0777"
   },
   "outputs": [],
   "source": [
    "# Loading sample from data generator\n",
    "\n",
    "X, y = valid_gen.get_sample(0)\n",
    "\n",
    "# Image\n",
    "plt.imshow(X)\n",
    "plt.show()\n",
    "# Ground truth\n",
    "plt.imshow(y)\n",
    "plt.show()"
   ]
  },
  {
   "cell_type": "code",
   "execution_count": null,
   "metadata": {
    "id": "JnavX1drPCb3"
   },
   "outputs": [],
   "source": [
    "callbacks = [\n",
    "    keras.callbacks.EarlyStopping(monitor=\"val_loss\", restore_best_weights=True, mode='min', patience=15, verbose=1),\n",
    "    keras.callbacks.ModelCheckpoint('{val_loss:.4f}.h5', monitor=\"val_loss\", mode=\"min\", save_best_only=True, save_weights_only=False,  verbose=1),\n",
    "    keras.callbacks.ReduceLROnPlateau(monitor='val_loss', factor=0.1, patience=5, verbose=0, mode='min', min_delta=0.0001, cooldown=0, min_lr=0)\n",
    "]"
   ]
  },
  {
   "cell_type": "code",
   "execution_count": null,
   "metadata": {
    "colab": {
     "base_uri": "https://localhost:8080/"
    },
    "id": "xVkKaB9BPBgl",
    "outputId": "61b6702c-2ee3-4308-a9f2-3f58f09c536f"
   },
   "outputs": [],
   "source": [
    "# train the model\n",
    "history = model.fit(\n",
    "    train_gen,  \n",
    "    epochs=EPOCHS,\n",
    "    callbacks=callbacks, \n",
    "    validation_data=valid_gen,\n",
    "    batch_size=batch_size\n",
    ")"
   ]
  }
 ],
 "metadata": {
  "accelerator": "GPU",
  "colab": {
   "collapsed_sections": [],
   "name": "floor_segmentaiton_keras.ipynb",
   "provenance": []
  },
  "gpuClass": "standard",
  "kernelspec": {
   "display_name": "Python 3.10.4 ('floor_segmentation')",
   "language": "python",
   "name": "python3"
  },
  "language_info": {
   "codemirror_mode": {
    "name": "ipython",
    "version": 3
   },
   "file_extension": ".py",
   "mimetype": "text/x-python",
   "name": "python",
   "nbconvert_exporter": "python",
   "pygments_lexer": "ipython3",
   "version": "3.10.4"
  },
  "vscode": {
   "interpreter": {
    "hash": "e44135c7088c70fc8bffc7ca5f14390d76bca77e0b021e7bfe4a8e227688d2aa"
   }
  }
 },
 "nbformat": 4,
 "nbformat_minor": 1
}
