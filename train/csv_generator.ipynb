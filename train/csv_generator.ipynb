{
 "cells": [
  {
   "cell_type": "code",
   "execution_count": null,
   "metadata": {},
   "outputs": [],
   "source": [
    "import os\n",
    "import glob\n",
    "import pandas as pd"
   ]
  },
  {
   "cell_type": "markdown",
   "metadata": {},
   "source": [
    "# Example code for csv generation of train dataset"
   ]
  },
  {
   "cell_type": "code",
   "execution_count": null,
   "metadata": {},
   "outputs": [],
   "source": [
    "DATASET_DIRECTORY = os.path.join(os.getcwd(), 'ADE20K_FloorData', 'images', 'ADE', 'training', 'home_or_hotel')\n",
    "SUB_DIRECTORIES = next(os.walk(DATASET_DIRECTORY))[1]"
   ]
  },
  {
   "cell_type": "code",
   "execution_count": null,
   "metadata": {},
   "outputs": [],
   "source": [
    "MASK_IMAGES = [glob.glob(os.path.join(DATASET_DIRECTORY, directory, 'mask', '*.png')) for directory in SUB_DIRECTORIES]\n",
    "RGB_IMAGES = [glob.glob(os.path.join(DATASET_DIRECTORY, directory, 'rgb', '*.jpg')) for directory in SUB_DIRECTORIES]"
   ]
  },
  {
   "cell_type": "code",
   "execution_count": null,
   "metadata": {},
   "outputs": [],
   "source": [
    "RGB_IMAGES = sorted([j for sub in RGB_IMAGES for j in sub])\n",
    "MASK_IMAGES = sorted([j for sub in MASK_IMAGES for j in sub])"
   ]
  },
  {
   "cell_type": "code",
   "execution_count": null,
   "metadata": {},
   "outputs": [],
   "source": [
    "pd.DataFrame(data={'rgb':RGB_IMAGES,'mask':MASK_IMAGES}, columns=['rgb', 'mask']).to_csv('train.csv', index=False)"
   ]
  }
 ],
 "metadata": {
  "kernelspec": {
   "display_name": "Python 3.10.4 ('shiftwave')",
   "language": "python",
   "name": "python3"
  },
  "language_info": {
   "codemirror_mode": {
    "name": "ipython",
    "version": 3
   },
   "file_extension": ".py",
   "mimetype": "text/x-python",
   "name": "python",
   "nbconvert_exporter": "python",
   "pygments_lexer": "ipython3",
   "version": "3.10.4"
  },
  "orig_nbformat": 4,
  "vscode": {
   "interpreter": {
    "hash": "55399d149dfc11796dea88d5999ad123fea87444b534b841b0dcf58185d4ec96"
   }
  }
 },
 "nbformat": 4,
 "nbformat_minor": 2
}
