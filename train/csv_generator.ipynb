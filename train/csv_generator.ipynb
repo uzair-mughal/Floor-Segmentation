{
 "cells": [
  {
   "cell_type": "code",
   "execution_count": 23,
   "metadata": {},
   "outputs": [],
   "source": [
    "import os\n",
    "import glob\n",
    "import pandas as pd"
   ]
  },
  {
   "cell_type": "markdown",
   "metadata": {},
   "source": [
    "# CSV generation of train/valid dataset"
   ]
  },
  {
   "cell_type": "code",
   "execution_count": 45,
   "metadata": {},
   "outputs": [],
   "source": [
    "FOLDERS = ['training', 'validation']\n",
    "for folder in FOLDERS:\n",
    "    DATASET_DIRECTORY = os.path.join(os.path.normpath(os.getcwd() + os.sep + os.pardir), 'ADE20K_FloorData', 'images', 'ADE', folder)\n",
    "    MASK_IMAGES = glob.glob(os.path.join(DATASET_DIRECTORY, '**/*.png'), recursive=True)\n",
    "    RGB_IMAGES = glob.glob(os.path.join(DATASET_DIRECTORY, '**/*.jpg'), recursive=True)\n",
    "    RGB_IMAGES = sorted(RGB_IMAGES)\n",
    "    MASK_IMAGES = sorted(MASK_IMAGES)\n",
    "    pd.DataFrame(data={'rgb': RGB_IMAGES, 'mask': MASK_IMAGES}, columns=['rgb', 'mask']).to_csv(folder+'.csv', index=False)\n",
    "    "
   ]
  }
 ],
 "metadata": {
  "kernelspec": {
   "display_name": "Python 3.10.4 ('floor')",
   "language": "python",
   "name": "python3"
  },
  "language_info": {
   "codemirror_mode": {
    "name": "ipython",
    "version": 3
   },
   "file_extension": ".py",
   "mimetype": "text/x-python",
   "name": "python",
   "nbconvert_exporter": "python",
   "pygments_lexer": "ipython3",
   "version": "3.10.4"
  },
  "orig_nbformat": 4,
  "vscode": {
   "interpreter": {
    "hash": "e8edb3f166f82375514e8d034d4dfe209d8e0b8056dd17275b565f0a6394b148"
   }
  }
 },
 "nbformat": 4,
 "nbformat_minor": 2
}
