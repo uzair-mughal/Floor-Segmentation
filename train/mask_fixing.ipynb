{
 "cells": [
  {
   "cell_type": "code",
   "execution_count": 1,
   "metadata": {},
   "outputs": [],
   "source": [
    "import os\n",
    "import json\n",
    "import glob\n",
    "import cv2 as cv\n",
    "import numpy as np\n",
    "import matplotlib.pyplot as plt"
   ]
  },
  {
   "cell_type": "markdown",
   "metadata": {},
   "source": [
    "# Example code"
   ]
  },
  {
   "cell_type": "code",
   "execution_count": 2,
   "metadata": {},
   "outputs": [],
   "source": [
    "DATASET_DIRECTORY = os.path.join(os.getcwd(), 'ADE20K_FloorData', 'images', 'ADE', 'training', 'home_or_hotel')\n",
    "SUB_DIRECTORIES = next(os.walk(DATASET_DIRECTORY))[1]"
   ]
  },
  {
   "cell_type": "markdown",
   "metadata": {},
   "source": [
    "## Converting gray pixels to black"
   ]
  },
  {
   "cell_type": "code",
   "execution_count": 3,
   "metadata": {},
   "outputs": [],
   "source": [
    "for directory in SUB_DIRECTORIES:\n",
    "    MASK_IMAGES = glob.glob(os.path.join(DATASET_DIRECTORY, directory, 'mask', '*.png'))\n",
    "    for image in MASK_IMAGES:\n",
    "        img = cv.imread(image, 0) \n",
    "        black_pixels = np.where(\n",
    "            (img[:, :] == 128)\n",
    "        )\n",
    "        img[black_pixels] = [0]\n",
    "        cv.imwrite(image, img)"
   ]
  }
 ],
 "metadata": {
  "kernelspec": {
   "display_name": "Python 3.10.4 ('shiftwave')",
   "language": "python",
   "name": "python3"
  },
  "language_info": {
   "codemirror_mode": {
    "name": "ipython",
    "version": 3
   },
   "file_extension": ".py",
   "mimetype": "text/x-python",
   "name": "python",
   "nbconvert_exporter": "python",
   "pygments_lexer": "ipython3",
   "version": "3.10.4"
  },
  "orig_nbformat": 4,
  "vscode": {
   "interpreter": {
    "hash": "55399d149dfc11796dea88d5999ad123fea87444b534b841b0dcf58185d4ec96"
   }
  }
 },
 "nbformat": 4,
 "nbformat_minor": 2
}
