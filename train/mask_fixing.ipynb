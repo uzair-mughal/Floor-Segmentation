{
 "cells": [
  {
   "cell_type": "code",
   "execution_count": 8,
   "metadata": {},
   "outputs": [],
   "source": [
    "import os\n",
    "import json\n",
    "import glob\n",
    "import cv2 as cv\n",
    "import numpy as np\n",
    "import matplotlib.pyplot as plt"
   ]
  },
  {
   "cell_type": "markdown",
   "metadata": {},
   "source": [
    "# Converting gray pixels to black"
   ]
  },
  {
   "cell_type": "code",
   "execution_count": 11,
   "metadata": {},
   "outputs": [],
   "source": [
    "FOLDERS = ['training', 'validation']\n",
    "for folder in FOLDERS:\n",
    "    DATASET_DIRECTORY = os.path.join(os.path.normpath(os.getcwd() + os.sep + os.pardir), 'ADE20K_FloorData', 'images', 'ADE', folder)\n",
    "    SUB_DIRECTORIES = next(os.walk(DATASET_DIRECTORY))[1]\n",
    "\n",
    "    for sub_directory in SUB_DIRECTORIES:\n",
    "        relative_path = os.path.join(DATASET_DIRECTORY, sub_directory)\n",
    "        IMAGE_FOLDERS = next(os.walk(relative_path))[1]\n",
    "\n",
    "        for image_folder in IMAGE_FOLDERS:\n",
    "            MASK_IMAGES = glob.glob(os.path.join(relative_path, image_folder, 'mask', '*.png'))\n",
    "            for image in MASK_IMAGES:\n",
    "                img = cv.imread(image, 0) \n",
    "                black_pixels = np.where(\n",
    "                    (img[:, :] == 128)\n",
    "                )\n",
    "                img[black_pixels] = [0]\n",
    "                cv.imwrite(image, img)"
   ]
  }
 ],
 "metadata": {
  "kernelspec": {
   "display_name": "Python 3.10.4 ('floor')",
   "language": "python",
   "name": "python3"
  },
  "language_info": {
   "codemirror_mode": {
    "name": "ipython",
    "version": 3
   },
   "file_extension": ".py",
   "mimetype": "text/x-python",
   "name": "python",
   "nbconvert_exporter": "python",
   "pygments_lexer": "ipython3",
   "version": "3.10.4"
  },
  "orig_nbformat": 4,
  "vscode": {
   "interpreter": {
    "hash": "e8edb3f166f82375514e8d034d4dfe209d8e0b8056dd17275b565f0a6394b148"
   }
  }
 },
 "nbformat": 4,
 "nbformat_minor": 2
}
