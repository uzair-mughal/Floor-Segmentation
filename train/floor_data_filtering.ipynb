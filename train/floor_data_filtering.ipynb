{
 "cells": [
  {
   "cell_type": "code",
   "execution_count": 1,
   "metadata": {},
   "outputs": [],
   "source": [
    "import os\n",
    "import glob\n",
    "import json\n",
    "import shutil"
   ]
  },
  {
   "cell_type": "markdown",
   "metadata": {},
   "source": [
    "# Example code"
   ]
  },
  {
   "cell_type": "code",
   "execution_count": 2,
   "metadata": {},
   "outputs": [],
   "source": [
    "DATASET_DIRECTORY = os.path.join(os.getcwd(), 'ADE20K_2021_17_01', 'images', 'ADE', 'training', 'home_or_hotel')\n",
    "SUB_DIRECTORIES = next(os.walk(DATASET_DIRECTORY))[1]"
   ]
  },
  {
   "cell_type": "markdown",
   "metadata": {},
   "source": [
    "## Filtering only floor images respective masks from home_or_hotel data "
   ]
  },
  {
   "cell_type": "code",
   "execution_count": 5,
   "metadata": {},
   "outputs": [],
   "source": [
    "for directory in SUB_DIRECTORIES:\n",
    "\n",
    "    new_directory = os.path.join(DATASET_DIRECTORY, directory).split(os.sep)\n",
    "    new_directory= [temp.replace('ADE20K_2021_17_01', 'ADE20K_FloorData')  for temp in new_directory]\n",
    "    new_directory = os.sep.join(new_directory)\n",
    "\n",
    "    if not os.path.exists(new_directory):\n",
    "        os.makedirs(new_directory)\n",
    "        os.makedirs(os.path.join(new_directory,'rgb'))\n",
    "        os.makedirs(os.path.join(new_directory,'mask'))\n",
    "\n",
    "    RBG_IMAGES = glob.glob(os.path.join(DATASET_DIRECTORY, directory, '*.jpg'))\n",
    "    JSON_FILES = glob.glob(os.path.join(DATASET_DIRECTORY, directory, '*.json'))\n",
    "\n",
    "    mask_images=[]\n",
    "    for file in JSON_FILES:\n",
    "        with open(file, 'r') as f:\n",
    "            parsed = json.load(f)\n",
    "            objects = parsed['annotation']['object']\n",
    "            floor_objects = [obj for obj in objects if obj[\"raw_name\"]==\"floor\"]\n",
    "\n",
    "        if len(floor_objects)==1:\n",
    "            for obj in floor_objects:\n",
    "                mask_images.append(obj['instance_mask'].split('/'))\n",
    "\n",
    "    MASK_IMAGES = [os.path.join(DATASET_DIRECTORY, directory, image[0], image[1]) for image in mask_images]\n",
    "    to_be_transfered = [temp.split(os.sep)[-2] for temp in MASK_IMAGES]\n",
    " \n",
    "    for file in RBG_IMAGES:\n",
    "        if file.split(os.sep)[-1].split('.')[0] in to_be_transfered:\n",
    "            shutil.copy(file, os.path.join(new_directory,'rgb'))\n",
    "    \n",
    "    for file in MASK_IMAGES:\n",
    "        if file.split(os.sep)[-2] in to_be_transfered:\n",
    "            shutil.copy(file, os.path.join(new_directory,'mask'))\n",
    "            dst_file = os.path.join(os.path.join(new_directory,'mask'), file.split(os.sep)[-1])\n",
    "            new_dst_file_name = os.path.join(os.path.join(new_directory,'mask'), file.split(os.sep)[-2]+'.png')\n",
    "            os.rename(dst_file, new_dst_file_name)"
   ]
  }
 ],
 "metadata": {
  "kernelspec": {
   "display_name": "Python 3.10.4 ('shiftwave')",
   "language": "python",
   "name": "python3"
  },
  "language_info": {
   "codemirror_mode": {
    "name": "ipython",
    "version": 3
   },
   "file_extension": ".py",
   "mimetype": "text/x-python",
   "name": "python",
   "nbconvert_exporter": "python",
   "pygments_lexer": "ipython3",
   "version": "3.10.4"
  },
  "orig_nbformat": 4,
  "vscode": {
   "interpreter": {
    "hash": "55399d149dfc11796dea88d5999ad123fea87444b534b841b0dcf58185d4ec96"
   }
  }
 },
 "nbformat": 4,
 "nbformat_minor": 2
}
